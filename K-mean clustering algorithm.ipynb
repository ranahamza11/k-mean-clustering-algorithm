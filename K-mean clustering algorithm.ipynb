{
 "cells": [
  {
   "cell_type": "markdown",
   "metadata": {},
   "source": [
    "### In this algorithm, first we read a image then convert it to nd-array(3d in this case) then we convert that 3d array to 2d array for the application of k-mean, then we prompt the user to choose the number of centroids, after that we apply k-mean algorithm and replace all the respective cluster point with its centroid value, then convert the 2d-array back to 3d-array, and then convert it back to image and save the image."
   ]
  },
  {
   "cell_type": "code",
   "execution_count": 2,
   "metadata": {
    "scrolled": true
   },
   "outputs": [
    {
     "name": "stdout",
     "output_type": "stream",
     "text": [
      "Enter number of centroids:5\n",
      "centroid updating... [(155, 92), (513, 55), (216, 76), (172, 796), (12, 2108)]\n",
      "centroid updating... [(112, 241), (456, 231), (295, 201), (267, 963), (263, 1936)]\n",
      "centroid updating... [(111, 336), (445, 339), (288, 210), (267, 1030), (266, 1924)]\n",
      "centroid updating... [(117, 428), (422, 454), (286, 129), (266, 1086), (266, 1938)]\n",
      "centroid updating... [(122, 499), (405, 531), (276, 131), (265, 1144), (266, 1956)]\n",
      "centroid updating... [(121, 553), (400, 588), (272, 151), (264, 1196), (266, 1974)]\n",
      "centroid updating... [(121, 598), (398, 636), (271, 170), (264, 1241), (266, 1992)]\n",
      "centroid updating... [(121, 636), (398, 678), (271, 187), (264, 1280), (266, 2007)]\n",
      "centroid updating... [(122, 668), (397, 715), (271, 201), (264, 1313), (266, 2021)]\n",
      "centroid updating... [(123, 695), (397, 747), (271, 214), (263, 1342), (266, 2033)]\n",
      "[147, 235, 237, 207, 255]\n"
     ]
    }
   ],
   "source": [
    "from PIL import Image\n",
    "import numpy as np\n",
    "import random\n",
    "import math\n",
    "\n",
    "img = Image.open('pic1.jpg')\n",
    "arr = np.asarray(img).copy()\n",
    "arr2d = arr.reshape(arr.shape[0], (arr.shape[1]*arr.shape[2]))\n",
    "\n",
    "i = arr2d.shape[0]\n",
    "j = arr2d.shape[1]\n",
    "centroid = []\n",
    "\n",
    "no_of_cen = int(input('Enter number of centroids:'))\n",
    "for index in range(no_of_cen):\n",
    "    res = (int(random.random()*i), int(random.random()* j))\n",
    "    while res in centroid:\n",
    "        res = (int(random.random()*i), int(random.random()* j))\n",
    "    centroid.append(res)\n",
    "\n",
    "clusters = [[] for item in range(len(centroid))]\n",
    "for index in range(10):\n",
    "    prev_clus = clusters\n",
    "    clusters = [[] for item in range(len(centroid))]\n",
    "    for out in range(i):\n",
    "        for inn in range(j):\n",
    "            res = []\n",
    "            for cen in centroid:\n",
    "                res.append(math.sqrt((out-cen[0])**2 + (inn-cen[1])**2))\n",
    "            clusters[res.index(min(res))].append((out,inn))\n",
    "\n",
    "    nw_centroid = []\n",
    "    print('centroid updating...',centroid)\n",
    "    for ind in range(len(centroid)):\n",
    "        mean = [0,0]\n",
    "        \n",
    "        for item in clusters[ind]:\n",
    "            mean[0] += item[0]\n",
    "            mean[1] += item[1]\n",
    "        mean[0] = int(mean[0] / len(clusters[ind]))\n",
    "        mean[1] = int(mean[1] / len(clusters[ind]))\n",
    "        nw_centroid.append(tuple(mean))\n",
    "        \n",
    "    if nw_centroid == centroid or prev_clus == clusters:\n",
    "        break\n",
    "    else:\n",
    "        centroid = nw_centroid\n",
    "values = []\n",
    "for i in centroid:\n",
    "    values.append(arr2d[i[0]][i[1]])\n",
    "print(values)\n",
    "\n",
    "for ind in range(len(centroid)):\n",
    "    for i,j in clusters[ind]:\n",
    "        arr2d[i][j] = values[ind]\n",
    "\n",
    "arr3d = arr2d.reshape(arr2d.shape[0], int(arr2d.shape[1]/3), 3)\n",
    "img_s = Image.fromarray(arr3d)\n",
    "img_s.save('ii.png')\n",
    "\n",
    "img_s.show()\n"
   ]
  },
  {
   "cell_type": "code",
   "execution_count": null,
   "metadata": {},
   "outputs": [],
   "source": []
  }
 ],
 "metadata": {
  "kernelspec": {
   "display_name": "Python 3",
   "language": "python",
   "name": "python3"
  },
  "language_info": {
   "codemirror_mode": {
    "name": "ipython",
    "version": 3
   },
   "file_extension": ".py",
   "mimetype": "text/x-python",
   "name": "python",
   "nbconvert_exporter": "python",
   "pygments_lexer": "ipython3",
   "version": "3.8.3"
  }
 },
 "nbformat": 4,
 "nbformat_minor": 4
}
